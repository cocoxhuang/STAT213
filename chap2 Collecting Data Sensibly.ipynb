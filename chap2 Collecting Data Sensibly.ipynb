{
 "cells": [
  {
   "cell_type": "markdown",
   "metadata": {},
   "source": [
    "# 2.1 Observational study vs. Experiment\n",
    "- **Observational study**: A study in which characteristics of a sample selected from one or more existing populations are observed.\n",
    "    - The goal of an observational study is usually to draw conclusions about the corresponding population or about differences between two or more populations. \n",
    "    - In a well-designed observational study, the sample is selected in a way that is designed to produce a sample that is **representative** of the population.\n",
    "- **Experiment**: A study that investigates how a response variable behaves when one or more explanatory variables, also called factors, are manipulated. \n",
    "    - The usual goal of an experiment is to determine the effect of the explanatory variables (factors) on the response variable. \n",
    "    - In a well-designed experiment, the composition of the groups that will be exposed to **different experimental conditions** is determined by random assignment."
   ]
  },
  {
   "cell_type": "markdown",
   "metadata": {},
   "source": [
    "# 2.2 Sampling"
   ]
  },
  {
   "cell_type": "markdown",
   "metadata": {},
   "source": [
    "## Bias in sampling\n",
    "- **Selection Bias**: Tendency for samples to differ from the population as a result of systematic exclusion of some part of the population.\n",
    "- **Measurement or Response Bias**: Tendency for samples to differ from the population because the method of observation tends to produce values that differ from the true values.\n",
    "- **Nonresponse** Bias: Tendency for samples to differ from the population because data are not obtained from all individuals selected for inclusion in the sample."
   ]
  },
  {
   "cell_type": "markdown",
   "metadata": {},
   "source": [
    "## Sampling methods:\n",
    "- **Simple random sample of size n**:  A sample that is selected from a population in a way that ensures that every different possible sample of size n has the same chance of being selected.\n",
    "    - **Sampling without replacement**: Once an individual from the population is selected for inclusion in the sample, it may not be selected again in the sampling process.\n",
    "    - **Sampling with replacement**: After an individual from the population is selected for inclusion in the sample and the corresponding data are recorded, the individual is placed back in the population and can be selected again in the sampling process. \n",
    "- **Stratified Random Sampling**: When the entire population can be divided into a set of nonoverlapping subgroups, separate simple random samples are independently selected from each subgroup.\n",
    "- **Cluster Sampling**: First divide the population of interest into nonoverlapping subgroups, called clusters; then, these clusters are then selected at random, and then all individuals in the selected clusters are included in the sample.\n",
    "- **Systematic sampling**: Forming a sample from an ordered arrangement of a population by choosing a starting point at random from the first k individuals on the list and then selecting every kth individual thereafter."
   ]
  },
  {
   "cell_type": "markdown",
   "metadata": {},
   "source": [
    "### Example of random sampling without replacement"
   ]
  },
  {
   "cell_type": "code",
   "execution_count": 1,
   "metadata": {},
   "outputs": [
    {
     "name": "stdout",
     "output_type": "stream",
     "text": [
      "20 random samples from sampling without replacement: [ 1  2 15 10 17 12  5 16 14  3  6  4 19 18 13  8  9  7  0 11]\n"
     ]
    }
   ],
   "source": [
    "import numpy as np\n",
    "samples_without_replace = np.random.choice(20,20,replace=False)\n",
    "print(f\"20 random samples from sampling without replacement: {samples_without_replace}\")"
   ]
  },
  {
   "cell_type": "code",
   "execution_count": 2,
   "metadata": {},
   "outputs": [
    {
     "name": "stdout",
     "output_type": "stream",
     "text": [
      "20 random samples from sampling with replacement: [12 16  9  6 16  1 14  4  6 15  1  5  1 11 18 10 17  1  6  2]\n"
     ]
    }
   ],
   "source": [
    "samples_with_replace = np.random.choice(20,20,replace=True)\n",
    "print(f\"20 random samples from sampling with replacement: {samples_with_replace}\")"
   ]
  },
  {
   "cell_type": "markdown",
   "metadata": {},
   "source": [
    "### Example of Stratified Random Sampling"
   ]
  },
  {
   "cell_type": "code",
   "execution_count": 3,
   "metadata": {},
   "outputs": [
    {
     "name": "stdout",
     "output_type": "stream",
     "text": [
      "All scores are: [80 97 80 90 69 87 65 91 76 83 97 98 91 92 91 95 90 93 91 92 96 96 97 91\n",
      " 94 97 90 91 98 95]\n",
      "English scores are: [80 97 80 90 69 87 65 91 76 83]\n",
      "Stats scores are: [97 98 91 92 91 95 90 93 91 92 96 96 97 91 94 97 90 91 98 95]\n",
      "--------------------\n",
      "All stratified samples are: [90 80 98 93 91 90],\n",
      "where English samples are: [98 93 91 90],\n",
      "and Stats samples are: [90 80 98 93 91 90]\n"
     ]
    }
   ],
   "source": [
    "English_scores = np.random.randint(60,100,10)\n",
    "Stats_scores = np.random.randint(90,100,20)\n",
    "population = np.concatenate([English_scores,Stats_scores])\n",
    "\n",
    "English_samples = np.random.choice(English_scores,int(len(English_scores)*0.2))\n",
    "Stats_samples = np.random.choice(Stats_scores,int(len(Stats_scores)*0.2))\n",
    "stratified_samples = np.concatenate([English_samples,Stats_samples])\n",
    "\n",
    "print(f\"All scores are: {population}\")\n",
    "print(f\"English scores are: {English_scores}\")\n",
    "print(f\"Stats scores are: {Stats_scores}\")\n",
    "print(\"-\"*20)\n",
    "print(f\"All stratified samples are: {stratified_samples},\")\n",
    "print(f\"where English samples are: {Stats_samples},\")\n",
    "print(f\"and Stats samples are: {stratified_samples}\")"
   ]
  },
  {
   "cell_type": "markdown",
   "metadata": {},
   "source": [
    "### Example of Clustering Sampling"
   ]
  },
  {
   "cell_type": "code",
   "execution_count": 4,
   "metadata": {},
   "outputs": [
    {
     "name": "stdout",
     "output_type": "stream",
     "text": [
      "population is: [ 3 80 63 16 99 39 42 29 40 38]\n",
      "cluster 1 is: [16 38]\n",
      "cluster 2 is: [42  3]\n",
      "cluster 3 is: [99 63]\n",
      "cluster 4 is: [39 29]\n",
      "cluster 5 is: [80 40]\n",
      "Clustering Sampling sampled cluster 3: [99 63]\n"
     ]
    }
   ],
   "source": [
    "population = np.random.choice(100,10,replace=False)\n",
    "population_num = len(population)\n",
    "cluster_num = 5\n",
    "clusters = []\n",
    "print(f\"population is: {population}\")\n",
    "for i in range(cluster_num):\n",
    "    cluster = np.random.choice(population,int(population_num*(1/cluster_num)),replace = False)\n",
    "    clusters.append(cluster)\n",
    "    print(f\"cluster {i+1} is: {cluster}\")\n",
    "    population = np.setdiff1d(population, cluster)\n",
    "\n",
    "chosen_cluster = np.random.choice(5)\n",
    "print(f\"Clustering Sampling sampled cluster {chosen_cluster+1}: {clusters[chosen_cluster]}\")"
   ]
  },
  {
   "cell_type": "markdown",
   "metadata": {},
   "source": [
    "### Example of 1 in k Stratified Random Sampling"
   ]
  },
  {
   "cell_type": "code",
   "execution_count": 5,
   "metadata": {},
   "outputs": [
    {
     "name": "stdout",
     "output_type": "stream",
     "text": [
      "Polulation is: [0 1 2 3 4 5 6 7 8 9]\n",
      "1 in 5 Stratified Random Sampling is: [0 5]\n"
     ]
    }
   ],
   "source": [
    "population = np.arange(0,10)\n",
    "samples = np.arange(0,10,5)\n",
    "print(f\"Polulation is: {population}\")\n",
    "print(f\"1 in 5 Stratified Random Sampling is: {samples}\")"
   ]
  },
  {
   "cell_type": "markdown",
   "metadata": {},
   "source": [
    "## 2.3, 2.4 Experiment: \n",
    "- Purpose is to assess the effect of explanatory variable on response variable\n",
    "- **Experiment**: A study in which one or more explanatory variables are manipulated in order to observe the effect on a response variable.\n",
    "- **Explanatory variables**: Those variables that have values that are controlled by the experimenter. Explanatory variables are also called factors.\n",
    "- **Response variable**:  A variable that is thought to be related to the explanatory variables in an experiment. It is measured as part of the experiment, but it is not controlled by the experimenter.\n",
    "- **Experimental condition**: Any particular combination of values for the explanatory variables. Experimental conditions are also called treatments.\n",
    "- **Extraneous variable**: A variable that is not one of the explanatory variables in the study but is thought to affect the response variable.\n",
    "- **Confounding variables**: Two variables are confounded if their effects on the response variable cannot be distinguished from one another.\n"
   ]
  },
  {
   "cell_type": "markdown",
   "metadata": {},
   "source": [
    "## Designing experiment\n",
    "- **Random assignment**: Random assignment (of subjects to treatments or of treatments to trials) to ensure that the experiment does not systematically favor one experimental condition (treatment) over another.\n",
    "- **Direct control**: Holding extraneous variables constant so that their effects are not confounded with those of the experimental conditions (treatments).\n",
    "- **Blocking**: Using extraneous variables to create groups (blocks) that are similar. All experimental conditions (treatments) are then tried in each block.\n",
    "- **Replication**: Ensuring that there is an adequate number of observations for each experimental condition.\n",
    "- **Control group**: A group in an experiment that receives no treatment.\n",
    "- **Placebo treatment**: A treatment that resembles the other treatments in an experiment in all apparent ways but that has no active ingredients.\n",
    "- **Single-blind experiment**: An experiment in which the subjects do not know which treatment they received but the individuals measuring the response do know which treatment was received, or an experiment in which the subjects do know which treatment they received but the individuals measuring the response do not know which treatment was received.\n",
    "- **Double-blind experiment**: An experiment in which neither the subjects nor the individuals who measure the response know which treatment was received."
   ]
  },
  {
   "cell_type": "markdown",
   "metadata": {},
   "source": [
    "## 2.5 Interpreting results\n",
    "- What is the population of interest? What is the sampled population? Are these two populations the same? If the sampled population is only a subset of the population of interest, undercoverage limits our ability to generalize to the population of interest.  Overcoverage results when the sampled population is actually larger than the population of interest.\n",
    "- How were the individuals or objects in the sample actually selected? A description of the sampling method helps the reader to make judgments about whether the sample can reasonably be viewed as representative of the population of interest.\n",
    "- What are potential sources of bias, and is it likely that any of these will have a substantial effect on the observed results? When describing an observational study, you should acknowledge that you are aware of potential sources of bias and explain any steps that were taken to minimize their effect.\n",
    "- What is the role of random assignment? All good experiments use random assignment as a means of coping with the effects of potentially confounding variables that cannot easily be directly controlled. When describing an experimental design, you should be clear about how random assignment (subjects to treatments, treatments to subjects, or treatments to trials) was incorporated into the design.\n",
    "- Were any extraneous variables directly controlled by holding them at fixed values throughout the experiment? If so, which ones and at which values?\n",
    "- Was blocking used? If so, how were the blocks created? If an experiment uses blocking to create groups of homogeneous experimental units, the criteria used to create the blocks should be described and an explanation of why these blocks were used should be given. \n",
    "- Do not draw a cause-and-effect conclusion from an observational study. \n",
    "- Do not generalize conclusions based on data from a sample to some population of interest. \n",
    "- Do not generalize conclusions based on an observational study that used voluntary response or convenience sampling to a larger population."
   ]
  }
 ],
 "metadata": {
  "kernelspec": {
   "display_name": "Python 3",
   "language": "python",
   "name": "python3"
  },
  "language_info": {
   "codemirror_mode": {
    "name": "ipython",
    "version": 3
   },
   "file_extension": ".py",
   "mimetype": "text/x-python",
   "name": "python",
   "nbconvert_exporter": "python",
   "pygments_lexer": "ipython3",
   "version": "3.10.7"
  },
  "orig_nbformat": 4
 },
 "nbformat": 4,
 "nbformat_minor": 2
}
