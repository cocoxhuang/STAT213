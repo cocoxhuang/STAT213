{
 "cells": [
  {
   "cell_type": "markdown",
   "metadata": {},
   "source": [
    "# 4.1 Describing the Center of a Data Set"
   ]
  },
  {
   "cell_type": "markdown",
   "metadata": {},
   "source": [
    "## Mean \n",
    "- **Sample mean**: 𝑥 =(𝑠𝑢𝑚 𝑜𝑓 𝑎𝑙𝑙 𝑜𝑏𝑠𝑒𝑟𝑣𝑎𝑡𝑖𝑜𝑛𝑠 𝑖𝑛 𝑡ℎ𝑒 𝑠𝑎𝑚𝑝𝑙𝑒)/(𝑛𝑢𝑚𝑏𝑒𝑟 𝑜𝑓 𝑎𝑙𝑙 𝑜𝑏𝑠𝑒𝑟𝑣𝑎𝑡𝑖𝑜𝑛𝑠 𝑖𝑛 𝑡ℎ𝑒 𝑠𝑎𝑚𝑝𝑙𝑒)= $(𝑥_1+𝑥_2+…+𝑥_𝑛)/𝑛$\n",
    "- **Population mean**: denoted by 𝜇; the average of all x values in the entire population.\n"
   ]
  },
  {
   "cell_type": "markdown",
   "metadata": {},
   "source": [
    "## Median \n",
    "- **median**=“middle value”. Once the data values have been listed in order from smallest to largest, the median is the middle value in the list, and it divides the list into two equal parts.\n",
    "- sample median: the median obtained from the sample observations; <br>\n",
    "𝑠𝑎𝑚𝑝𝑙𝑒 𝑚𝑒𝑑𝑖𝑎𝑛= 𝑡ℎ𝑒 𝑠𝑖𝑛𝑔𝑙𝑒 𝑚𝑖𝑑𝑑𝑙𝑒 𝑣𝑎𝑙𝑢𝑒,𝑖𝑓 𝑛 𝑖𝑠 𝑜𝑑𝑑; <br>\n",
    "               𝑡ℎ𝑒 𝑎𝑣𝑒𝑟𝑎𝑔𝑒 𝑜𝑓 𝑡ℎ𝑒 𝑚𝑖𝑑𝑑𝑙𝑒 𝑡𝑤𝑜 𝑣𝑎𝑙𝑢𝑒𝑠, 𝑖𝑓 𝑛 𝑖𝑠 𝑒𝑣𝑒𝑛."
   ]
  },
  {
   "cell_type": "markdown",
   "metadata": {},
   "source": [
    "## Comparing the Mean and the Median (Ex 4.5)"
   ]
  },
  {
   "cell_type": "code",
   "execution_count": 1,
   "metadata": {},
   "outputs": [
    {
     "data": {
      "text/html": [
       "<div>\n",
       "<style scoped>\n",
       "    .dataframe tbody tr th:only-of-type {\n",
       "        vertical-align: middle;\n",
       "    }\n",
       "\n",
       "    .dataframe tbody tr th {\n",
       "        vertical-align: top;\n",
       "    }\n",
       "\n",
       "    .dataframe thead th {\n",
       "        text-align: right;\n",
       "    }\n",
       "</style>\n",
       "<table border=\"1\" class=\"dataframe\">\n",
       "  <thead>\n",
       "    <tr style=\"text-align: right;\">\n",
       "      <th></th>\n",
       "      <th>Player</th>\n",
       "      <th>2018 Salary</th>\n",
       "    </tr>\n",
       "  </thead>\n",
       "  <tbody>\n",
       "    <tr>\n",
       "      <th>0</th>\n",
       "      <td>Stephen Curry</td>\n",
       "      <td>34682550</td>\n",
       "    </tr>\n",
       "    <tr>\n",
       "      <th>1</th>\n",
       "      <td>Kevin Durant</td>\n",
       "      <td>25000000</td>\n",
       "    </tr>\n",
       "    <tr>\n",
       "      <th>2</th>\n",
       "      <td>Klay Thompson</td>\n",
       "      <td>17826150</td>\n",
       "    </tr>\n",
       "    <tr>\n",
       "      <th>3</th>\n",
       "      <td>Draymond Green</td>\n",
       "      <td>16400000</td>\n",
       "    </tr>\n",
       "    <tr>\n",
       "      <th>4</th>\n",
       "      <td>Andre Iguodala</td>\n",
       "      <td>14814815</td>\n",
       "    </tr>\n",
       "    <tr>\n",
       "      <th>5</th>\n",
       "      <td>Shaun Livingston</td>\n",
       "      <td>7692308</td>\n",
       "    </tr>\n",
       "    <tr>\n",
       "      <th>6</th>\n",
       "      <td>Nick Young</td>\n",
       "      <td>5192000</td>\n",
       "    </tr>\n",
       "    <tr>\n",
       "      <th>7</th>\n",
       "      <td>Zaza Pachulia</td>\n",
       "      <td>3477600</td>\n",
       "    </tr>\n",
       "    <tr>\n",
       "      <th>8</th>\n",
       "      <td>David West</td>\n",
       "      <td>2328652</td>\n",
       "    </tr>\n",
       "    <tr>\n",
       "      <th>9</th>\n",
       "      <td>JaVale McGee</td>\n",
       "      <td>2116955</td>\n",
       "    </tr>\n",
       "    <tr>\n",
       "      <th>10</th>\n",
       "      <td>Omri Casspi</td>\n",
       "      <td>2106470</td>\n",
       "    </tr>\n",
       "    <tr>\n",
       "      <th>11</th>\n",
       "      <td>Kevon Looney</td>\n",
       "      <td>1471382</td>\n",
       "    </tr>\n",
       "    <tr>\n",
       "      <th>12</th>\n",
       "      <td>Damien Jones</td>\n",
       "      <td>1312611</td>\n",
       "    </tr>\n",
       "    <tr>\n",
       "      <th>13</th>\n",
       "      <td>Patrick McCaw</td>\n",
       "      <td>1312611</td>\n",
       "    </tr>\n",
       "    <tr>\n",
       "      <th>14</th>\n",
       "      <td>Jason Thompson</td>\n",
       "      <td>893333</td>\n",
       "    </tr>\n",
       "    <tr>\n",
       "      <th>15</th>\n",
       "      <td>Jordan Bell</td>\n",
       "      <td>815615</td>\n",
       "    </tr>\n",
       "  </tbody>\n",
       "</table>\n",
       "</div>"
      ],
      "text/plain": [
       "              Player  2018 Salary\n",
       "0      Stephen Curry     34682550\n",
       "1      Kevin Durant      25000000\n",
       "2      Klay Thompson     17826150\n",
       "3    Draymond Green      16400000\n",
       "4     Andre Iguodala     14814815\n",
       "5   Shaun Livingston      7692308\n",
       "6        Nick Young       5192000\n",
       "7      Zaza Pachulia      3477600\n",
       "8        David West       2328652\n",
       "9       JaVale McGee      2116955\n",
       "10      Omri Casspi       2106470\n",
       "11      Kevon Looney      1471382\n",
       "12      Damien Jones      1312611\n",
       "13     Patrick McCaw      1312611\n",
       "14    Jason Thompson       893333\n",
       "15       Jordan Bell       815615"
      ]
     },
     "execution_count": 1,
     "metadata": {},
     "output_type": "execute_result"
    }
   ],
   "source": [
    "import pandas as pd\n",
    "url = \"https://raw.githubusercontent.com/cocoxhuang/STAT213/main/Ex04.5.csv\"\n",
    "data = pd.read_csv(url)\n",
    "data"
   ]
  },
  {
   "cell_type": "code",
   "execution_count": 2,
   "metadata": {},
   "outputs": [
    {
     "data": {
      "text/plain": [
       "Text(0.5, 1.0, '2018 BB players Salaries')"
      ]
     },
     "execution_count": 2,
     "metadata": {},
     "output_type": "execute_result"
    },
    {
     "data": {
      "image/png": "[encoded data removed]",
      "text/plain": [
       "<Figure size 640x480 with 1 Axes>"
      ]
     },
     "metadata": {},
     "output_type": "display_data"
    }
   ],
   "source": [
    "from matplotlib import pyplot as plt\n",
    "plt.hist(data['2018 Salary'],rwidth=0.7)\n",
    "plt.xlabel(\"Salary\")\n",
    "plt.ylabel(\"Frequency\")\n",
    "plt.title(\"2018 BB players Salaries\")"
   ]
  },
  {
   "cell_type": "code",
   "execution_count": 3,
   "metadata": {},
   "outputs": [
    {
     "name": "stdout",
     "output_type": "stream",
     "text": [
      "The sample mean of 2018 Salary: 8590190.75\n",
      "The sample median deviation of 2018 Salary: 2903126.0\n",
      "Sample mean - sample median: 5687064.75\n"
     ]
    }
   ],
   "source": [
    "from statistics import mean, median\n",
    "print(f\"The sample mean of 2018 Salary: {mean(data['2018 Salary'])}\")\n",
    "print(f\"The sample median deviation of 2018 Salary: {median(data['2018 Salary'])}\")\n",
    "print(f\"Sample mean - sample median: {mean(data['2018 Salary']) - median(data['2018 Salary'])}\")"
   ]
  },
  {
   "cell_type": "markdown",
   "metadata": {},
   "source": [
    "## proportion of successes\n",
    "- **proportion of successes** = “the fraction of S in the data” \n",
    "- sample proportion of successes, denoted by $\\hat{p}$ = (𝑛𝑢𝑚𝑒𝑟 𝑜𝑓 𝑆 𝑖𝑛 𝑡ℎ𝑒 𝑠𝑎𝑚𝑝𝑙𝑒)/𝑛, where S is the label used for the response designated as success\n",
    "- population proportion of successes: denoted by 𝑝\n"
   ]
  },
  {
   "cell_type": "markdown",
   "metadata": {},
   "source": [
    "# 4.2 Describing Variability in a Data Set"
   ]
  },
  {
   "cell_type": "markdown",
   "metadata": {},
   "source": [
    "# Variance and standard deviation (Ex 4.5)\n",
    "- **Sample variance**: denoted by $s^2 =\\sum_{i=1}^{n} (\\bar{𝑥}−𝑥_𝑛 )^2 /(𝑛−1)$\n",
    "- **Sample standard deviation**: denoted by $s$: the positive square root of the sample variance: $s = \\sqrt{s^2}$.\n",
    "- **population variance**, denoted by $\\sigma^2$\n",
    "- **population standard deviation**, denoted by $\\sigma$\n"
   ]
  },
  {
   "cell_type": "code",
   "execution_count": 4,
   "metadata": {},
   "outputs": [
    {
     "name": "stdout",
     "output_type": "stream",
     "text": [
      "The sample variance of 2018 Salary: 104871016160375.27\n",
      "The sample standard deviation of 2018 Salary: 10240655.065003179\n"
     ]
    }
   ],
   "source": [
    "from statistics import variance, stdev\n",
    "var = variance(data['2018 Salary'])\n",
    "st_dev = stdev(data['2018 Salary'])\n",
    "print(f\"The sample variance of 2018 Salary: {var}\")\n",
    "print(f\"The sample standard deviation of 2018 Salary: {st_dev}\")"
   ]
  },
  {
   "cell_type": "markdown",
   "metadata": {},
   "source": [
    "## Range and quantiles\n",
    "- **Range**:  the simplest numerical measure of variability. 𝑟𝑎𝑛𝑔𝑒=𝑙𝑎𝑟𝑔𝑒𝑠𝑡 𝑣𝑎𝑙𝑢𝑒−𝑠𝑚𝑎𝑙𝑙𝑒𝑠𝑡 𝑣𝑎𝑙𝑢𝑒. \n",
    "- **Interquartile range (iqr)**: A measure of variability that is not as sensitive to the presence of outliers as the standard deviation.\n",
    "    - **lower quartile**: Median of the lower half of the sample\n",
    "    - **upper quartile**: Median of the upper half of the sample\n",
    "    - If n is odd, the median of the entire sample is temporarily excluded from both halves when calculating quartiles.\n",
    "    - 𝑖𝑞𝑟=𝑢𝑝𝑝𝑒𝑟 𝑞𝑢𝑎𝑟𝑡𝑖𝑙𝑒−𝑙𝑜𝑤𝑒𝑟 𝑞𝑢𝑎𝑟𝑡𝑖𝑙𝑒"
   ]
  },
  {
   "cell_type": "markdown",
   "metadata": {},
   "source": [
    "# 4.3 Boxplots"
   ]
  },
  {
   "cell_type": "markdown",
   "metadata": {},
   "source": [
    "## Skeletal boxplot (EX4.11)\n",
    "- Draw a horizontal (or vertical) measurement scale.\n",
    "- Construct a rectangular box with a left (or lower) edge at the lower quartile and a right (or upper) edge at the upper quartile. This makes the box width equal to the iqr.\n",
    "- Draw a vertical (or horizontal) line segment inside the box at the location of the median.\n",
    "- Extend horizontal (or vertical) line segments, called whiskers, from each end of the box to the smallest and largest observations in the data set._"
   ]
  },
  {
   "cell_type": "code",
   "execution_count": 5,
   "metadata": {},
   "outputs": [
    {
     "data": {
      "text/html": [
       "<div>\n",
       "<style scoped>\n",
       "    .dataframe tbody tr th:only-of-type {\n",
       "        vertical-align: middle;\n",
       "    }\n",
       "\n",
       "    .dataframe tbody tr th {\n",
       "        vertical-align: top;\n",
       "    }\n",
       "\n",
       "    .dataframe thead th {\n",
       "        text-align: right;\n",
       "    }\n",
       "</style>\n",
       "<table border=\"1\" class=\"dataframe\">\n",
       "  <thead>\n",
       "    <tr style=\"text-align: right;\">\n",
       "      <th></th>\n",
       "      <th>Player</th>\n",
       "      <th>2018 Salary</th>\n",
       "    </tr>\n",
       "  </thead>\n",
       "  <tbody>\n",
       "    <tr>\n",
       "      <th>0</th>\n",
       "      <td>Stephen Curry</td>\n",
       "      <td>34682550</td>\n",
       "    </tr>\n",
       "    <tr>\n",
       "      <th>1</th>\n",
       "      <td>Kevin Durant</td>\n",
       "      <td>25000000</td>\n",
       "    </tr>\n",
       "    <tr>\n",
       "      <th>2</th>\n",
       "      <td>Klay Thompson</td>\n",
       "      <td>17826150</td>\n",
       "    </tr>\n",
       "    <tr>\n",
       "      <th>3</th>\n",
       "      <td>Draymond Green</td>\n",
       "      <td>16400000</td>\n",
       "    </tr>\n",
       "    <tr>\n",
       "      <th>4</th>\n",
       "      <td>Andre Iguodala</td>\n",
       "      <td>14814815</td>\n",
       "    </tr>\n",
       "    <tr>\n",
       "      <th>5</th>\n",
       "      <td>Shaun Livingston</td>\n",
       "      <td>7692308</td>\n",
       "    </tr>\n",
       "    <tr>\n",
       "      <th>6</th>\n",
       "      <td>Nick Young</td>\n",
       "      <td>5192000</td>\n",
       "    </tr>\n",
       "    <tr>\n",
       "      <th>7</th>\n",
       "      <td>Zaza Pachulia</td>\n",
       "      <td>3477600</td>\n",
       "    </tr>\n",
       "    <tr>\n",
       "      <th>8</th>\n",
       "      <td>David West</td>\n",
       "      <td>2328652</td>\n",
       "    </tr>\n",
       "    <tr>\n",
       "      <th>9</th>\n",
       "      <td>JaVale McGee</td>\n",
       "      <td>2116955</td>\n",
       "    </tr>\n",
       "    <tr>\n",
       "      <th>10</th>\n",
       "      <td>Omri Casspi</td>\n",
       "      <td>2106470</td>\n",
       "    </tr>\n",
       "    <tr>\n",
       "      <th>11</th>\n",
       "      <td>Kevon Looney</td>\n",
       "      <td>1471382</td>\n",
       "    </tr>\n",
       "    <tr>\n",
       "      <th>12</th>\n",
       "      <td>Damien Jones</td>\n",
       "      <td>1312611</td>\n",
       "    </tr>\n",
       "    <tr>\n",
       "      <th>13</th>\n",
       "      <td>Patrick McCaw</td>\n",
       "      <td>1312611</td>\n",
       "    </tr>\n",
       "    <tr>\n",
       "      <th>14</th>\n",
       "      <td>Jason Thompson</td>\n",
       "      <td>893333</td>\n",
       "    </tr>\n",
       "    <tr>\n",
       "      <th>15</th>\n",
       "      <td>Jordan Bell</td>\n",
       "      <td>815615</td>\n",
       "    </tr>\n",
       "  </tbody>\n",
       "</table>\n",
       "</div>"
      ],
      "text/plain": [
       "              Player  2018 Salary\n",
       "0      Stephen Curry     34682550\n",
       "1      Kevin Durant      25000000\n",
       "2      Klay Thompson     17826150\n",
       "3    Draymond Green      16400000\n",
       "4     Andre Iguodala     14814815\n",
       "5   Shaun Livingston      7692308\n",
       "6        Nick Young       5192000\n",
       "7      Zaza Pachulia      3477600\n",
       "8        David West       2328652\n",
       "9       JaVale McGee      2116955\n",
       "10      Omri Casspi       2106470\n",
       "11      Kevon Looney      1471382\n",
       "12      Damien Jones      1312611\n",
       "13     Patrick McCaw      1312611\n",
       "14    Jason Thompson       893333\n",
       "15       Jordan Bell       815615"
      ]
     },
     "execution_count": 5,
     "metadata": {},
     "output_type": "execute_result"
    }
   ],
   "source": [
    "import pandas as pd\n",
    "url = \"https://raw.githubusercontent.com/cocoxhuang/STAT213/main/Ex04.5.csv\"\n",
    "data = pd.read_csv(url)\n",
    "data"
   ]
  },
  {
   "cell_type": "code",
   "execution_count": 6,
   "metadata": {},
   "outputs": [
    {
     "data": {
      "text/plain": [
       "Text(0.5, 1.0, '2018 BB players Salaries')"
      ]
     },
     "execution_count": 6,
     "metadata": {},
     "output_type": "execute_result"
    },
    {
     "data": {
      "image/png": "[encoded data removed]",
      "text/plain": [
       "<Figure size 640x480 with 1 Axes>"
      ]
     },
     "metadata": {},
     "output_type": "display_data"
    }
   ],
   "source": [
    "from matplotlib import pyplot as plt\n",
    "fig, ax = plt.subplots()\n",
    "plt.boxplot(data['2018 Salary'])\n",
    "ax.get_xaxis().set_visible(False)\n",
    "plt.ylabel(\"Salary\")\n",
    "plt.title(\"2018 BB players Salaries\")"
   ]
  },
  {
   "cell_type": "markdown",
   "metadata": {},
   "source": [
    "## modified boxplot\n",
    "- **Outlier**: An observation that is more than 1.5𝑖𝑞𝑟 away from the nearest quartile\n",
    "        - An outlier is an **extreme outlier** if it is more than 3𝑖𝑞𝑟 from the nearest quartile\n",
    "        - An outlier is a **mild outlier** otherwise\n",
    "- Construction of a Modified Boxplot: A modified boxplot represents mild outliers by solid circles and extreme outliers by open circles, and the whiskers extend on each end to the most extreme observations that are not outliers."
   ]
  },
  {
   "cell_type": "markdown",
   "metadata": {},
   "source": [
    "# 4.4 Interpreting Center and Variability"
   ]
  },
  {
   "cell_type": "markdown",
   "metadata": {},
   "source": [
    "## Chebyshev’s Rule\n",
    "- **Chebyshev’s rule**: Consider any number 𝑘, where 𝑘≥1; the percentage of observations that are within 𝑘 standard deviations of the mean is at least 100(1−1/𝑘^2)%\n",
    "    - $P(|x - \\mu| \\ge k \\sigma) \\le 1/k^2$\n",
    "- **Emipirical rule**: this is used when the histogram of values in a data set is reasonably well approximated by a normal curve (section 7.6).\n",
    "\n",
    "The Empirical Rule makes “approximately” instead of “at least” statements, and these percentages are much higher than those of Chebyshev’s Rule.\n"
   ]
  },
  {
   "cell_type": "markdown",
   "metadata": {},
   "source": []
  },
  {
   "cell_type": "code",
   "execution_count": 7,
   "metadata": {},
   "outputs": [],
   "source": [
    "Rules = {\n",
    "    \"k\" : [2,3,4,4.72,5,10],\n",
    "    \"Chebyshev\": [0.75,0.89,0.94,0.95,0.96,0.99],\n",
    "    \"Empirical\": [0.9545, 0.9973, 0.9999,  0.9999,  0.9999,  0.9999]\n",
    "    }\n",
    "Rules = pd.DataFrame(data=Rules)"
   ]
  },
  {
   "cell_type": "code",
   "execution_count": 8,
   "metadata": {},
   "outputs": [
    {
     "data": {
      "text/plain": [
       "<matplotlib.legend.Legend at 0x2a24a3cd660>"
      ]
     },
     "execution_count": 8,
     "metadata": {},
     "output_type": "execute_result"
    },
    {
     "data": {
      "image/png": "[encoded data removed]",
      "text/plain": [
       "<Figure size 640x480 with 1 Axes>"
      ]
     },
     "metadata": {},
     "output_type": "display_data"
    }
   ],
   "source": [
    "plt.plot(Rules['k'],Rules['Chebyshev'],label = 'Chebyshev')\n",
    "plt.plot(Rules['k'],Rules['Empirical'],label = 'Empirical')\n",
    "plt.xlabel('k')\n",
    "plt.ylabel('Proability')\n",
    "plt.title(\"Probability within k std of mean\")\n",
    "plt.legend()"
   ]
  },
  {
   "cell_type": "markdown",
   "metadata": {},
   "source": [
    "## measure of relative standing:\n",
    "- **𝑧-score of a value 𝑥**: shows how many standard deviations the value 𝑥 is from the mean $\\bar{𝑥}$, and the sign shows whether the value 𝑥 is greater or smaller than the mean.\n",
    "- 𝑧-score(𝑥)= $(𝑥−\\bar{𝑥})/𝑠$, where $s$ is the sample standard deviation\n",
    "- **Percentile**: For any particular number 𝑟 between 0 and 100, the rth percentile is a value such that 𝑟 percent of the observations in the data set fall at or below that value."
   ]
  }
 ],
 "metadata": {
  "kernelspec": {
   "display_name": "Python 3",
   "language": "python",
   "name": "python3"
  },
  "language_info": {
   "codemirror_mode": {
    "name": "ipython",
    "version": 3
   },
   "file_extension": ".py",
   "mimetype": "text/x-python",
   "name": "python",
   "nbconvert_exporter": "python",
   "pygments_lexer": "ipython3",
   "version": "3.10.7"
  },
  "orig_nbformat": 4
 },
 "nbformat": 4,
 "nbformat_minor": 2
}
