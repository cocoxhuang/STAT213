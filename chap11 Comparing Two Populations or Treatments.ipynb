{
 "cells": [
  {
   "cell_type": "markdown",
   "metadata": {},
   "source": [
    "# 11.1 Inferences Concerning the Difference Between Two Population or Treatment Means Using Independent Samples\n",
    "\n",
    "For independent random samples:\n",
    "- $\\mu_{\\overline{x}_1 - \\overline{x}_2}= \\mu_{\\overline{x}_1} - \\mu_{\\overline{x}_2}$.\n",
    "This means that the sampling distribution of $\\overline{x}_1 - \\overline{x}_2$ is always centered at the value of $\\mu_1 - \\mu_2$, so $\\overline{x}_1 - \\overline{x}_2$ is an unbiased statistic for estimating $\\mu_1 - \\mu_2$.\n",
    "- $\\sigma^{2}_{\\overline{x}_1 - \\overline{x}_2}= \\sigma^2_{\\overline{x}_1} + \\sigma^2_{\\overline{x}_2} = \\frac{\\sigma^{2}_{1}}{n_{1}} + \\frac{\\sigma^{2}_{2}}{n_{2}}$, and $\\sigma_{\\overline{x}_1 - \\overline{x}_2}= \\sqrt{\\frac{\\sigma^{2}_{1}}{n_{1}} + \\frac{\\sigma^{2}_{2}}{n_{2}}}$.\n",
    "- If $𝑛_1$ and $𝑛_2$ are both large or the population distributions are (at least approximately) normal, $\\overline{x}_1$ and $\\overline{x}_2$  each have (at least approximately) a normal distribution. This implies that the sampling distribution of $\\overline{x}_1 -  \\overline{x}_2$ is also normal or approximately normal.\n",
    "    - If $\\sigma_1, \\sigma_2$ are known, then test statistic\n",
    "    $$\n",
    "    z= \\frac{(\\overline{x}_1 -  \\overline{x}_2) - (\\mu_1 - \\mu_2)}{ \\sqrt{\\frac{\\sigma^{2}_{1}}{n_{1}} + \\frac{\\sigma^{2}_{2}}{n_{2}}}}\n",
    "    $$\n",
    "    has a standard normal z distribution. And the general formula for a confidence interval for $\\mu_1− \\mu_2$ is\n",
    "    $(\\overline{x}_1 -  \\overline{x}_2) \\pm (\\text{z critical value}) \\sqrt{\\sigma_1^2/𝑛_1 + \\sigma_2^2/𝑛_2}$.\n",
    "    - If $\\sigma_1, \\sigma_2$ are unknown, then if two random samples are independently selected and when $𝑛_1$ and $𝑛_2$ are both large or the population distributions are normal, the test statistic\n",
    "    $$\n",
    "    t = \\frac{(\\overline{x}_1 -  \\overline{x}_2) - (\\mu_1 - \\mu_2)}{ \\sqrt{\\frac{s^{2}_{1}}{n_{1}} + \\frac{s^{2}_{2}}{n_{2}}}}\n",
    "    $$\n",
    "    has a standard normal t distribution with \n",
    "    $$\n",
    "    df =  \\frac{(V_1 + V_2)^2}{\\frac{V_1^2}{n_{1} -1} + \\frac{V_2^2}{n_{2} -1}}\n",
    "    $$\n",
    "    where $V_1 = \\frac{s_1^2}{n_1 - 1}$ and $V_2 = \\frac{s_2^2}{n_2 - 1}$. And the general formula for a confidence interval for $\\mu_1− \\mu_2$ is\n",
    "    $(\\overline{x}_1 -  \\overline{x}_2) \\pm (\\text{𝑡 critical value}) \\sqrt{𝑠_1^2/𝑛_1 + 𝑠_2^2/𝑛_2}$.\n",
    "\n",
    "\n",
    "- Null hypothesis: $𝐻_0$: $\\mu_1 − \\mu_2$ = hypothesized value"
   ]
  },
  {
   "cell_type": "markdown",
   "metadata": {},
   "source": [
    "# 10.2 Inferences Concerning the Difference Between Two Population or Treatment Means Using Paired Samples\n",
    "- $\\mu_𝑑$ = mean value of the difference population = $\\mu_1 − \\mu_2$\n",
    "- $\\sigma_𝑑$ = standard deviation of the difference population\n",
    "- $s_𝑑$ = standard deviation of the difference population\n",
    "\n",
    "Assumptions:\n",
    "- The samples are paired.\n",
    "- The 𝑛 sample differences can be viewed as a random sample from a population of differences.\n",
    "- The number of sample differences is large (generally at least 30) or the population distribution of differences is approximately normal\n",
    "\n",
    "Null hypothesis: $𝐻_0$: $\\mu_𝑑$=hypothesized value\n",
    "\n",
    "Test Statistic: 𝑡= $\\frac{\\overline{x}_d - \\text{hypothesized value}}{s_d/\\sqrt{n}}$\n",
    "\n",
    "Confidence interval for $\\mu_𝑑$: $\\overline{x}_d \\pm (\\text{𝑡 critical value}) \\sqrt{𝑠_d/𝑛}$"
   ]
  },
  {
   "cell_type": "markdown",
   "metadata": {},
   "source": [
    "# 10.2 Inferences Concerning the Difference Between Two Population or Treatment Means Using Paired Samples\n",
    "- $\\mu_𝑑$ = mean value of the difference population = $\\mu_1 − \\mu_2$\n",
    "- $\\overline{x}_𝑑$ = mean value of the difference samples = $\\overline{x}_1 − \\overline{x}_2$\n",
    "- $\\sigma_𝑑$ = standard deviation of the difference population\n",
    "- $s_𝑑$ = samples standard deviation of the difference \n",
    "\n",
    "Assumptions:\n",
    "- The samples are paired.\n",
    "- The 𝑛 sample differences can be viewed as a random sample from a population of differences.\n",
    "- The number of sample differences is large (generally at least 30) or the population distribution of differences is approximately normal\n",
    "\n",
    "Null hypothesis: $𝐻_0$: $\\mu_𝑑$=hypothesized value\n",
    "\n",
    "Test Statistic: 𝑡= $\\frac{\\overline{x}_d - \\text{hypothesized value}}{s_d/\\sqrt{n}}$\n",
    "\n",
    "Confidence interval for $\\mu_𝑑$: $\\overline{x}_d \\pm (\\text{𝑡 critical value}) \\sqrt{𝑠_d/𝑛}$"
   ]
  },
  {
   "cell_type": "markdown",
   "metadata": {},
   "source": [
    "# 10.3 Large-sample inferences concerning the Difference Between two Population or treatment Proportions "
   ]
  },
  {
   "cell_type": "markdown",
   "metadata": {},
   "source": [
    "For independent random samples:\n",
    "- $\\mu_{\\hat{p}_1 - \\hat{p}_2}= \\mu_{\\hat{p}_1} - \\mu_{\\hat{p}_2}$.\n",
    "This means that the sampling distribution of $\\hat{p}_1 - \\hat{p}_2$ is always centered at the value of $p_1 - p_2$, so $\\hat{p}_1 - \\hat{p}_2$ is an unbiased statistic for estimating $p_1 - p_2$.\n",
    "- $\\sigma^{2}_{\\hat{p}_1 - \\hat{p}_2}= \\sigma^2_{\\hat{p}_1} + \\sigma^2_{\\hat{p}_2} = \\frac{p_1(1-p_1)}{n_1} + \\frac{p_2(1-p_2)}{n_2}$, and $\\sigma_{\\hat{p}_1 - \\hat{p}_2}= \\sqrt{\\frac{p_1(1-p_1)}{n_1} + \\frac{p_2(1-p_2)}{n_2}}$.\n",
    "- If $𝑛_1$ and $𝑛_2$ are both large $𝑛_1 𝑝_1 \\ge 10$ and $𝑛_1 (1− 𝑝_1 ) \\ge 10$, and $𝑛_2 𝑝_2 \\ge 10$  and $𝑛_2 (1−𝑝_2) \\ge 10)$, $\\hat{p}_1$ and $\\hat{p}_2$ each have a normal distribution; then the sampling distribution of $\\hat{p}_1 - \\hat{p}_2$ is also normal.\n",
    "\n",
    "Confidence interval for $p_1 - p_2$: $\\hat{p}_1 - \\hat{p}_2 \\pm \\sqrt{\\frac{\\hat{p}_1(1-\\hat{p}_1)}{n_1} + \\frac{\\hat{p}_2(1-\\hat{p}_2)}{n_2}}$\n",
    "\n",
    "Null hypothesis: $𝐻_0$: $p_1 - p_2$ = hypothesized value, and the hypothesized value is usually 0.\n",
    "\n",
    "Test Statistic: if null hypothesis is $𝐻_0$: $p_1 = p_2$, then\n",
    "$$\n",
    "z = \\frac{\\hat{p}_1 - \\hat{p}_2 - \\text{hypothesized value}}{\\sqrt{\\frac{p(1-p)}{n_1} + \\frac{p(1-p)}{n_2}}}.\n",
    "$$\n",
    "Though we do not know this value 𝑝 most of the time. The combined estimate of a common population proportion $p$ is\n",
    "$$\n",
    "\\hat{p}_c=(𝑛_1 \\hat{p}_1 + 𝑛_2 \\hat{p}_2)/(𝑛_1+𝑛_2)= \\text{(total number of S in the two samples)/(total of the sample sizes)}\n",
    "$$"
   ]
  }
 ],
 "metadata": {
  "kernelspec": {
   "display_name": "Python 3",
   "language": "python",
   "name": "python3"
  },
  "language_info": {
   "codemirror_mode": {
    "name": "ipython",
    "version": 3
   },
   "file_extension": ".py",
   "mimetype": "text/x-python",
   "name": "python",
   "nbconvert_exporter": "python",
   "pygments_lexer": "ipython3",
   "version": "3.10.7"
  },
  "orig_nbformat": 4
 },
 "nbformat": 4,
 "nbformat_minor": 2
}
