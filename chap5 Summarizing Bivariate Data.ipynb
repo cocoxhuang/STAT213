{
 "cells": [
  {
   "cell_type": "markdown",
   "metadata": {},
   "source": [
    "# 5.1 Correlation\n",
    "- sample correlation coefficient: denoted by $r$, \n",
    "$$\n",
    "r = \\frac{\\sum z_x z_y}{n-1}\n",
    "$$\n",
    "where $z_x, z_y$ are the z-socres for x and y:\n",
    "$$\n",
    "z_x = \\frac{x- \\overline{x}}{s_{x}}, z_y = \\frac{y- \\overline{y}}{s_{y}},\n",
    "$$\n",
    "and $s_{x}, s_{y}$ are sample standard deviations of $x,y$.\n",
    "- The value of 𝒓 is between −𝟏 and +𝟏.\n",
    "- A correlation coefficient of 𝒓=𝟏 occurs only when all the points in a scatterplot of the data lie exactly on a straight line that slopes upward. Similarly,  𝒓=−𝟏 only when all the points lie exactly on a downward-sloping line.\n",
    "- The value of 𝒓 is a measure of how 𝒙 and 𝒚 are linearly related.\n",
    "- The value of 𝒓 does not depend on the unit of measurement for either variable.\n",
    "- The value of 𝒓 does not depend on which of the two variables is considered 𝒙.\n",
    "- Correlation measures the extent of association, but association does not imply causation. It frequently happens that two variables are highly correlated not because one is causally related to the other but because they are both strongly related to a third variable.\n"
   ]
  },
  {
   "cell_type": "markdown",
   "metadata": {},
   "source": [
    "## Example"
   ]
  },
  {
   "cell_type": "code",
   "execution_count": 1,
   "metadata": {},
   "outputs": [
    {
     "data": {
      "text/html": [
       "<div>\n",
       "<style scoped>\n",
       "    .dataframe tbody tr th:only-of-type {\n",
       "        vertical-align: middle;\n",
       "    }\n",
       "\n",
       "    .dataframe tbody tr th {\n",
       "        vertical-align: top;\n",
       "    }\n",
       "\n",
       "    .dataframe thead th {\n",
       "        text-align: right;\n",
       "    }\n",
       "</style>\n",
       "<table border=\"1\" class=\"dataframe\">\n",
       "  <thead>\n",
       "    <tr style=\"text-align: right;\">\n",
       "      <th></th>\n",
       "      <th>Age Group</th>\n",
       "      <th>Representative Age</th>\n",
       "      <th>Average Finish Time of Top 10 (min)</th>\n",
       "    </tr>\n",
       "  </thead>\n",
       "  <tbody>\n",
       "    <tr>\n",
       "      <th>0</th>\n",
       "      <td>18-19</td>\n",
       "      <td>18.5</td>\n",
       "      <td>241.1</td>\n",
       "    </tr>\n",
       "    <tr>\n",
       "      <th>1</th>\n",
       "      <td>20-24</td>\n",
       "      <td>22.5</td>\n",
       "      <td>181.6</td>\n",
       "    </tr>\n",
       "    <tr>\n",
       "      <th>2</th>\n",
       "      <td>25-29</td>\n",
       "      <td>27.5</td>\n",
       "      <td>167.1</td>\n",
       "    </tr>\n",
       "    <tr>\n",
       "      <th>3</th>\n",
       "      <td>30-34</td>\n",
       "      <td>32.5</td>\n",
       "      <td>161.4</td>\n",
       "    </tr>\n",
       "    <tr>\n",
       "      <th>4</th>\n",
       "      <td>35-39</td>\n",
       "      <td>37.5</td>\n",
       "      <td>160.9</td>\n",
       "    </tr>\n",
       "    <tr>\n",
       "      <th>5</th>\n",
       "      <td>40-44</td>\n",
       "      <td>42.5</td>\n",
       "      <td>179.8</td>\n",
       "    </tr>\n",
       "    <tr>\n",
       "      <th>6</th>\n",
       "      <td>45-49</td>\n",
       "      <td>47.5</td>\n",
       "      <td>186.5</td>\n",
       "    </tr>\n",
       "    <tr>\n",
       "      <th>7</th>\n",
       "      <td>50-54</td>\n",
       "      <td>52.5</td>\n",
       "      <td>194.2</td>\n",
       "    </tr>\n",
       "    <tr>\n",
       "      <th>8</th>\n",
       "      <td>55-59</td>\n",
       "      <td>57.5</td>\n",
       "      <td>212.2</td>\n",
       "    </tr>\n",
       "    <tr>\n",
       "      <th>9</th>\n",
       "      <td>60-64</td>\n",
       "      <td>62.5</td>\n",
       "      <td>225.3</td>\n",
       "    </tr>\n",
       "  </tbody>\n",
       "</table>\n",
       "</div>"
      ],
      "text/plain": [
       "  Age Group   Representative Age   Average Finish Time of Top 10 (min)\n",
       "0      18-19                 18.5                                241.1\n",
       "1      20-24                 22.5                                181.6\n",
       "2      25-29                 27.5                                167.1\n",
       "3      30-34                 32.5                                161.4\n",
       "4      35-39                 37.5                                160.9\n",
       "5      40-44                 42.5                                179.8\n",
       "6      45-49                 47.5                                186.5\n",
       "7      50-54                 52.5                                194.2\n",
       "8      55-59                 57.5                                212.2\n",
       "9      60-64                 62.5                                225.3"
      ]
     },
     "execution_count": 1,
     "metadata": {},
     "output_type": "execute_result"
    }
   ],
   "source": [
    "import pandas as pd\n",
    "import numpy as np\n",
    "\n",
    "url = \"https://github.com/cocoxhuang/STAT213/blob/main/Ex05.3.csv?raw=true\"\n",
    "data = pd.read_csv(url)\n",
    "data"
   ]
  },
  {
   "cell_type": "code",
   "execution_count": 2,
   "metadata": {},
   "outputs": [
    {
     "name": "stdout",
     "output_type": "stream",
     "text": [
      "Correlation between age and marathon finish time is: 0.21817857491195636\n"
     ]
    }
   ],
   "source": [
    "from scipy.stats import pearsonr\n",
    "\n",
    "age = data['Representative Age '].values\n",
    "time = data['Average Finish Time of Top 10 (min)'].values\n",
    "\n",
    "\n",
    "corr, p = pearsonr(age,time)\n",
    "print(f\"Correlation between age and marathon finish time is: {corr}\")"
   ]
  },
  {
   "cell_type": "markdown",
   "metadata": {},
   "source": [
    "### Scatterplot of data "
   ]
  },
  {
   "cell_type": "code",
   "execution_count": 3,
   "metadata": {},
   "outputs": [
    {
     "data": {
      "text/plain": [
       "Text(0.5, 1.0, 'Top 10 Marathon time by age group')"
      ]
     },
     "execution_count": 3,
     "metadata": {},
     "output_type": "execute_result"
    },
    {
     "data": {
      "image/png": "[encoded data removed]",
      "text/plain": [
       "<Figure size 640x480 with 1 Axes>"
      ]
     },
     "metadata": {},
     "output_type": "display_data"
    }
   ],
   "source": [
    "import seaborn as sns\n",
    "from matplotlib import pyplot as plt\n",
    "sns.regplot(x=\"Representative Age \", y=\"Average Finish Time of Top 10 (min)\", data=data)\n",
    "plt.title(\"Top 10 Marathon time by age group\")"
   ]
  },
  {
   "cell_type": "markdown",
   "metadata": {},
   "source": [
    "# 5.2 Linear regression: Fitting a Line to Bivariate Data\n",
    "- **Dependent variable**: In a bivariate data set, the variable whose value we would like to predict. The dependent variable is denoted by y. The dependent variable is also sometimes called the response variable.\n",
    "- **Independent variable**:n a bivariate data set, the variable that will be used to make a prediction of the dependent variable. The independent variable is denoted by x. The independent variable is also sometimes called the predictor variable or the explanatory variable. \n",
    "- The equation of a line is $y=𝑎+𝑏𝑥$, where the value of 𝑏 is  the slope of the line and the value of 𝑎 is the intercept.\n",
    "- **Sum of squared deviations**: \n",
    "$$\n",
    "\\sum_{k=1}^n (y_k - (a+b \\cdot x_k))^2\n",
    "$$\n",
    "- **Least-squares line/sample regression line**: the line that minimizes the sum of squared deviations. We write the equation of the least-squares line as\n",
    "    $$\n",
    "    \\hat{y} = a + bx,\n",
    "    $$\n",
    "    where $\\hat{y}$ is the prediction of 𝑦 that results from substituting a particular 𝑥 value into the equation.\n",
    "    - The slope the least-squares line is:\n",
    "    $$\n",
    "    b = r(\\frac{s_y}{s_x}) = \\frac{\\sum_{k=1}^n (x_k- \\overline{x})(y_k - \\overline{y})}{\\sum_{k=1}^n (x_k- \\overline{x})^2} = \\frac{\\sum xy - \\frac{(\\sum x)(\\sum y)}{n}}{\\sum x^2 - \\frac{(\\sum x)^2}{n}}.\n",
    "    $$\n",
    "    - The $y$ intercept is $a = \\overline{y} - b \\overline{x}$."
   ]
  },
  {
   "cell_type": "markdown",
   "metadata": {},
   "source": [
    "## Example"
   ]
  },
  {
   "cell_type": "code",
   "execution_count": 4,
   "metadata": {},
   "outputs": [
    {
     "data": {
      "text/html": [
       "<div>\n",
       "<style scoped>\n",
       "    .dataframe tbody tr th:only-of-type {\n",
       "        vertical-align: middle;\n",
       "    }\n",
       "\n",
       "    .dataframe tbody tr th {\n",
       "        vertical-align: top;\n",
       "    }\n",
       "\n",
       "    .dataframe thead th {\n",
       "        text-align: right;\n",
       "    }\n",
       "</style>\n",
       "<table border=\"1\" class=\"dataframe\">\n",
       "  <thead>\n",
       "    <tr style=\"text-align: right;\">\n",
       "      <th></th>\n",
       "      <th>Distance (in meters)</th>\n",
       "      <th>Record Time (in seconds)</th>\n",
       "    </tr>\n",
       "  </thead>\n",
       "  <tbody>\n",
       "    <tr>\n",
       "      <th>0</th>\n",
       "      <td>100</td>\n",
       "      <td>10</td>\n",
       "    </tr>\n",
       "    <tr>\n",
       "      <th>1</th>\n",
       "      <td>200</td>\n",
       "      <td>19</td>\n",
       "    </tr>\n",
       "    <tr>\n",
       "      <th>2</th>\n",
       "      <td>400</td>\n",
       "      <td>43</td>\n",
       "    </tr>\n",
       "    <tr>\n",
       "      <th>3</th>\n",
       "      <td>800</td>\n",
       "      <td>101</td>\n",
       "    </tr>\n",
       "    <tr>\n",
       "      <th>4</th>\n",
       "      <td>1000</td>\n",
       "      <td>132</td>\n",
       "    </tr>\n",
       "    <tr>\n",
       "      <th>5</th>\n",
       "      <td>1500</td>\n",
       "      <td>206</td>\n",
       "    </tr>\n",
       "    <tr>\n",
       "      <th>6</th>\n",
       "      <td>2000</td>\n",
       "      <td>285</td>\n",
       "    </tr>\n",
       "    <tr>\n",
       "      <th>7</th>\n",
       "      <td>3000</td>\n",
       "      <td>441</td>\n",
       "    </tr>\n",
       "    <tr>\n",
       "      <th>8</th>\n",
       "      <td>5000</td>\n",
       "      <td>757</td>\n",
       "    </tr>\n",
       "  </tbody>\n",
       "</table>\n",
       "</div>"
      ],
      "text/plain": [
       "   Distance (in meters)  Record Time (in seconds)\n",
       "0                   100                        10\n",
       "1                   200                        19\n",
       "2                   400                        43\n",
       "3                   800                       101\n",
       "4                  1000                       132\n",
       "5                  1500                       206\n",
       "6                  2000                       285\n",
       "7                  3000                       441\n",
       "8                  5000                       757"
      ]
     },
     "execution_count": 4,
     "metadata": {},
     "output_type": "execute_result"
    }
   ],
   "source": [
    "url = \"https://github.com/cocoxhuang/STAT213/blob/main/Ex05.8.csv?raw=true\"\n",
    "data = pd.read_csv(url,sep=\";\")\n",
    "data"
   ]
  },
  {
   "cell_type": "code",
   "execution_count": 5,
   "metadata": {},
   "outputs": [],
   "source": [
    "from scipy.stats import pearsonr\n",
    "from statistics import stdev\n",
    "\n",
    "dist = data['Distance (in meters)']\n",
    "time = data['Record Time (in seconds)']"
   ]
  },
  {
   "cell_type": "markdown",
   "metadata": {},
   "source": [
    "## perform linear regression with stats"
   ]
  },
  {
   "cell_type": "code",
   "execution_count": 6,
   "metadata": {},
   "outputs": [
    {
     "name": "stdout",
     "output_type": "stream",
     "text": [
      "Correlation between distance and recond time is: 0.9996508526844973.\n",
      "Distance std is : 1593.8248893080374, and recond time std is 244.7815919912643.\n",
      "Thus s_y/s_x * r 0.15352761071623836\n",
      "By linear regression result, b is 0.15285875388820386.\n"
     ]
    }
   ],
   "source": [
    "import statsmodels.api as sm\n",
    "\n",
    "model = sm.OLS(time, dist)\n",
    "results = model.fit()\n",
    "\n",
    "corr, p = pearsonr(dist,time)\n",
    "print(f\"Correlation between distance and recond time is: {corr}.\")\n",
    "print(f\"Distance std is : {stdev(dist)}, and recond time std is {stdev(time)}.\")\n",
    "print(f\"Thus s_y/s_x * r {stdev(time)/stdev(dist) * corr}\")\n",
    "print(f\"By linear regression result, b is {results.conf_int().iloc[0][1]}.\")"
   ]
  },
  {
   "cell_type": "markdown",
   "metadata": {},
   "source": [
    "# 5.3 Assessing the Fit of a Line\n",
    "- **Predicted values**: the predicted values result from substituting each sample 𝑥 value into the equation for the least-squares line. \n",
    "- **Residuals**: each residual is the difference between an observed 𝑦 value and the corresponding predicted 𝑦 value. \n",
    "- **Residual plot**: a scatterplot of the (𝑥, residual) pairs."
   ]
  },
  {
   "cell_type": "markdown",
   "metadata": {},
   "source": [
    "## Looking for unsual values\n",
    "- **Outlier**: An observation that has a large residual. Outlier observations fall far away from the least-squares line in the 𝑦 direction.\n",
    "- **Influential Observations**: An observation is potentially influential if it has an 𝑥 value that is far away from the rest of the data (separated from the rest of the data in the 𝑥 direction"
   ]
  },
  {
   "cell_type": "markdown",
   "metadata": {},
   "source": [
    "## Coefficient of determination, $𝑟^2$ and Standard Deviation About the Least-Squares Line, $s_e$\n",
    "- **Total sum of squares/**: denoted by **SSTo**, is defined as $SSTo=\\sum (𝑦 − \\overline{y})^2$. SSTo is interpreted as a measure of total variability in 𝑦.\n",
    "- **Residual sum of squares**: denoted by **SSResid**, is defined as $SSReid=\\sum (𝑦−\\hat{y})^2 $. SSResid is sometimes referred to as a measure of unexplained variability—the amount of variability in 𝑦 that cannot be attributed to the linear relationship between 𝑥 and 𝑦.\n",
    "- Coefficient of determination is defined as\n",
    "$$\n",
    "𝑟^2 = 1 − \\frac{SSResid}{SSTo}\n",
    "$$\n",
    "- Standard Deviation About the Least-Squares Line, $s_e = \\sqrt{\\frac{SSReid}{n-2}}$. Roughly speaking, $𝑠_𝑒$ is a typical amount that an observation deviates from the least-squares line. \n"
   ]
  },
  {
   "cell_type": "markdown",
   "metadata": {},
   "source": [
    "## Example (following the one above)"
   ]
  },
  {
   "cell_type": "code",
   "execution_count": 7,
   "metadata": {},
   "outputs": [
    {
     "name": "stdout",
     "output_type": "stream",
     "text": [
      "                                    OLS Regression Results                                   \n",
      "=============================================================================================\n",
      "Dep. Variable:     Record Time (in seconds)   R-squared (uncentered):                   0.998\n",
      "Model:                                  OLS   Adj. R-squared (uncentered):              0.998\n",
      "Method:                       Least Squares   F-statistic:                              4514.\n",
      "Date:                      Sun, 06 Aug 2023   Prob (F-statistic):                    2.68e-12\n",
      "Time:                              17:18:14   Log-Likelihood:                         -36.166\n",
      "No. Observations:                         9   AIC:                                      74.33\n",
      "Df Residuals:                             8   BIC:                                      74.53\n",
      "Df Model:                                 1                                                  \n",
      "Covariance Type:                  nonrobust                                                  \n",
      "========================================================================================\n",
      "                           coef    std err          t      P>|t|      [0.025      0.975]\n",
      "----------------------------------------------------------------------------------------\n",
      "Distance (in meters)     0.1478      0.002     67.185      0.000       0.143       0.153\n",
      "==============================================================================\n",
      "Omnibus:                       11.274   Durbin-Watson:                   0.355\n",
      "Prob(Omnibus):                  0.004   Jarque-Bera (JB):                4.527\n",
      "Skew:                           1.570   Prob(JB):                        0.104\n",
      "Kurtosis:                       4.489   Cond. No.                         1.00\n",
      "==============================================================================\n",
      "\n",
      "Notes:\n",
      "[1] R² is computed without centering (uncentered) since the model does not contain a constant.\n",
      "[2] Standard Errors assume that the covariance matrix of the errors is correctly specified.\n"
     ]
    },
    {
     "name": "stderr",
     "output_type": "stream",
     "text": [
      "c:\\Users\\Xiaoyu Huang\\AppData\\Local\\Programs\\Python\\Python310\\lib\\site-packages\\scipy\\stats\\_stats_py.py:1806: UserWarning: kurtosistest only valid for n>=20 ... continuing anyway, n=9\n",
      "  warnings.warn(\"kurtosistest only valid for n>=20 ... continuing \"\n"
     ]
    }
   ],
   "source": [
    "print(results.summary())"
   ]
  },
  {
   "cell_type": "code",
   "execution_count": 8,
   "metadata": {},
   "outputs": [
    {
     "name": "stdout",
     "output_type": "stream",
     "text": [
      "R-squared is: 0.998230778406536\n"
     ]
    }
   ],
   "source": [
    "print(f\"R-squared is: {results.rsquared}\")"
   ]
  },
  {
   "cell_type": "code",
   "execution_count": 9,
   "metadata": {},
   "outputs": [
    {
     "data": {
      "text/plain": [
       "<matplotlib.lines.Line2D at 0x1e913985900>"
      ]
     },
     "execution_count": 9,
     "metadata": {},
     "output_type": "execute_result"
    },
    {
     "data": {
      "image/png": "[encoded data removed]",
      "text/plain": [
       "<Figure size 640x480 with 1 Axes>"
      ]
     },
     "metadata": {},
     "output_type": "display_data"
    }
   ],
   "source": [
    "sns.scatterplot(x=dist, y=results.resid)\n",
    "plt.ylabel(\"Residual\")\n",
    "plt.axhline(y = 0, color = 'k')"
   ]
  },
  {
   "cell_type": "markdown",
   "metadata": {},
   "source": [
    "Even though the value of the correlation coefficient is very close to 1, when the residualsfrom the least-squares line are plotted, there is a definite curved pattern."
   ]
  },
  {
   "cell_type": "markdown",
   "metadata": {},
   "source": [
    "# 5.4 Nonlinear relationships and transformations\n",
    "Common nonlinear functions: \n",
    "- quadratic function\n",
    "- square root function\n",
    "- reciprocal function\n",
    "- logarithmic function\n",
    "- exponential function\n",
    "- power function\n",
    "\n",
    "Examples: \n",
    "1. Models that involve transforming only 𝑥: quadratic regression model $\\hat{y} = 𝑎+𝑏_1 𝑥+𝑏_2 𝑥^2$.Similarly, a measure that is useful for assessing fit is $R^2 = 1 − \\frac{SSResid}{SSTo} = 1- \\frac{\\sum (𝑦−\\hat{y})^2}{\\sum (𝑦 − \\overline{y})^2}$.\n",
    "The square root, reciprocal, and log models all have the form $\\hat{y} = 𝑎+𝑏∙(\\text{some function of }𝑥)$, where the function of 𝑥 is square root, reciprocal, or log.\n",
    "2. Models that involve transforming only y: logit regression model: $y \\in \\{0,1\\}$, $P(y=1) = \\phi(𝑎+bx)$ where $\\phi(𝑎+bx) = \\frac{e^{𝑎+bx}}{1+e^{𝑎+bx}}$."
   ]
  }
 ],
 "metadata": {
  "kernelspec": {
   "display_name": "Python 3",
   "language": "python",
   "name": "python3"
  },
  "language_info": {
   "codemirror_mode": {
    "name": "ipython",
    "version": 3
   },
   "file_extension": ".py",
   "mimetype": "text/x-python",
   "name": "python",
   "nbconvert_exporter": "python",
   "pygments_lexer": "ipython3",
   "version": "3.10.7"
  },
  "orig_nbformat": 4
 },
 "nbformat": 4,
 "nbformat_minor": 2
}
