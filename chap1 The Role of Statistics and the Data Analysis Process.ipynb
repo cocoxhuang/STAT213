{
 "cells": [
  {
   "cell_type": "markdown",
   "metadata": {},
   "source": [
    "# 1.3 Statistics and the Data Analysis Process"
   ]
  },
  {
   "cell_type": "markdown",
   "metadata": {},
   "source": [
    "## Population and sample\n",
    "- **Population**: The entire collection of individuals or objects about which information is desired is called the population of interest.\n",
    "- **Sample**: A subset of the population, selected for study."
   ]
  },
  {
   "cell_type": "markdown",
   "metadata": {},
   "source": [
    "## Descriptive and inferential statistics\n",
    "- **Descriptive statistics**: The branch of statistics that includes methods for organizing and summarizing data. \n",
    "- **Inferential statistics**: The branch of statistics that involves generalizing from a sample to the population from which the sample was selected and assessing the reliability of such generalizations.\n"
   ]
  },
  {
   "cell_type": "markdown",
   "metadata": {},
   "source": [
    "# 1.4 Types of Data and Some Simple Graphical Displays"
   ]
  },
  {
   "cell_type": "markdown",
   "metadata": {},
   "source": [
    "## Variable and data\n",
    "- **Variable**: A characteristic whose value may change from one observation to another.\n",
    "- Data: A collection of observations on one or more variables.\n",
    "    - **Categorical data set**: A univariate data set is categorical (or qualitative) if the individual observations are categorical responses.\n",
    "    - **Numerical data set**: A univariate data set is numerical (or quantitative) if each observation is a number.<br>\n",
    "            - **Discrete numerical variable**: A numerical variable results in discrete data if the possible values of the variable correspond to isolated points on the number line.<br>\n",
    "            - **Continuous numerical variabl**e: A numerical variable results in continuous data if the set of possible values forms an entire interval on the number line."
   ]
  },
  {
   "cell_type": "markdown",
   "metadata": {},
   "source": [
    "## Categorical data"
   ]
  },
  {
   "cell_type": "markdown",
   "metadata": {},
   "source": [
    "### **Frequency Distributions and Bar Charts for Categorical Data**: \n",
    "A table that displays frequencies, and\n",
    "sometimes relative frequencies, for\n",
    "each of the possible values of a categorical\n",
    "variable."
   ]
  },
  {
   "cell_type": "code",
   "execution_count": 1,
   "metadata": {},
   "outputs": [
    {
     "data": {
      "text/html": [
       "<div>\n",
       "<style scoped>\n",
       "    .dataframe tbody tr th:only-of-type {\n",
       "        vertical-align: middle;\n",
       "    }\n",
       "\n",
       "    .dataframe tbody tr th {\n",
       "        vertical-align: top;\n",
       "    }\n",
       "\n",
       "    .dataframe thead th {\n",
       "        text-align: right;\n",
       "    }\n",
       "</style>\n",
       "<table border=\"1\" class=\"dataframe\">\n",
       "  <thead>\n",
       "    <tr style=\"text-align: right;\">\n",
       "      <th></th>\n",
       "      <th>Frequency</th>\n",
       "      <th>Relatice Frequency</th>\n",
       "    </tr>\n",
       "  </thead>\n",
       "  <tbody>\n",
       "    <tr>\n",
       "      <th>No helmet</th>\n",
       "      <td>250</td>\n",
       "      <td>0.31</td>\n",
       "    </tr>\n",
       "    <tr>\n",
       "      <th>Noncompliant helmet</th>\n",
       "      <td>40</td>\n",
       "      <td>0.05</td>\n",
       "    </tr>\n",
       "    <tr>\n",
       "      <th>Compliant helmet</th>\n",
       "      <td>516</td>\n",
       "      <td>0.64</td>\n",
       "    </tr>\n",
       "  </tbody>\n",
       "</table>\n",
       "</div>"
      ],
      "text/plain": [
       "                     Frequency  Relatice Frequency\n",
       "No helmet                  250                0.31\n",
       "Noncompliant helmet         40                0.05\n",
       "Compliant helmet           516                0.64"
      ]
     },
     "execution_count": 1,
     "metadata": {},
     "output_type": "execute_result"
    }
   ],
   "source": [
    "import pandas as pd\n",
    "d = {'Frequency' : [250, 40, 516], 'Relatice Frequency': [0.310, 0.050, 0.640]}\n",
    "Motor_helmet = pd.DataFrame(data=d, index=['No helmet','Noncompliant helmet','Compliant helmet']) \n",
    "Motor_helmet"
   ]
  },
  {
   "cell_type": "markdown",
   "metadata": {},
   "source": [
    "#### Ex1.6"
   ]
  },
  {
   "cell_type": "code",
   "execution_count": 2,
   "metadata": {},
   "outputs": [
    {
     "data": {
      "text/plain": [
       "array(['No helmet', 'Noncompliant helmet', 'Compliant helmet'],\n",
       "      dtype=object)"
      ]
     },
     "execution_count": 2,
     "metadata": {},
     "output_type": "execute_result"
    }
   ],
   "source": [
    "Motor_helmet.index.values"
   ]
  },
  {
   "cell_type": "markdown",
   "metadata": {},
   "source": [
    "### **Bar Charts for Categorical Data**: \n",
    "A graph of a frequency distribution for a categorical data set. Each category is represented by a bar, and the area of the bar is proportional to the corresponding frequency or relative frequency."
   ]
  },
  {
   "cell_type": "code",
   "execution_count": 3,
   "metadata": {},
   "outputs": [
    {
     "data": {
      "image/png": "[encoded data removed]",
      "text/plain": [
       "<Figure size 600x225 with 1 Axes>"
      ]
     },
     "metadata": {},
     "output_type": "display_data"
    }
   ],
   "source": [
    "from matplotlib import pyplot as plt\n",
    "fig = plt.figure(figsize = (6, 2.25))\n",
    " \n",
    "# creating the bar plot\n",
    "plt.bar(Motor_helmet.index.values, Motor_helmet['Relatice Frequency'], color = 'skyblue',\n",
    "        width = 0.4)\n",
    "plt.xlabel(\"Helmet use\")\n",
    "plt.ylabel(\"Frequency\")\n",
    "plt.title(\"Frequency of helmet use\")\n",
    "plt.show()"
   ]
  },
  {
   "cell_type": "markdown",
   "metadata": {},
   "source": [
    "## Numerical data"
   ]
  },
  {
   "cell_type": "markdown",
   "metadata": {},
   "source": [
    "### **Dotplots for Numerical Data**: \n",
    "A graph of numerical data in which each observation is represented by a dot on or above a horizontal measurement scale."
   ]
  },
  {
   "cell_type": "markdown",
   "metadata": {},
   "source": [
    "#### Ex1.9"
   ]
  },
  {
   "cell_type": "code",
   "execution_count": 4,
   "metadata": {},
   "outputs": [],
   "source": [
    "url = 'https://github.com/cocoxhuang/STAT213/blob/main/Ex1.9.csv?raw=true'\n",
    "Graduation = pd.read_csv(url) "
   ]
  },
  {
   "cell_type": "code",
   "execution_count": 5,
   "metadata": {},
   "outputs": [
    {
     "data": {
      "text/html": [
       "<div>\n",
       "<style scoped>\n",
       "    .dataframe tbody tr th:only-of-type {\n",
       "        vertical-align: middle;\n",
       "    }\n",
       "\n",
       "    .dataframe tbody tr th {\n",
       "        vertical-align: top;\n",
       "    }\n",
       "\n",
       "    .dataframe thead th {\n",
       "        text-align: right;\n",
       "    }\n",
       "</style>\n",
       "<table border=\"1\" class=\"dataframe\">\n",
       "  <thead>\n",
       "    <tr style=\"text-align: right;\">\n",
       "      <th></th>\n",
       "      <th>School</th>\n",
       "      <th>ALL</th>\n",
       "      <th>BB</th>\n",
       "      <th>Difference</th>\n",
       "    </tr>\n",
       "  </thead>\n",
       "  <tbody>\n",
       "    <tr>\n",
       "      <th>0</th>\n",
       "      <td>1</td>\n",
       "      <td>79</td>\n",
       "      <td>93</td>\n",
       "      <td>-14</td>\n",
       "    </tr>\n",
       "    <tr>\n",
       "      <th>1</th>\n",
       "      <td>2</td>\n",
       "      <td>88</td>\n",
       "      <td>91</td>\n",
       "      <td>-3</td>\n",
       "    </tr>\n",
       "    <tr>\n",
       "      <th>2</th>\n",
       "      <td>3</td>\n",
       "      <td>88</td>\n",
       "      <td>100</td>\n",
       "      <td>-12</td>\n",
       "    </tr>\n",
       "    <tr>\n",
       "      <th>3</th>\n",
       "      <td>4</td>\n",
       "      <td>71</td>\n",
       "      <td>73</td>\n",
       "      <td>-2</td>\n",
       "    </tr>\n",
       "    <tr>\n",
       "      <th>4</th>\n",
       "      <td>5</td>\n",
       "      <td>74</td>\n",
       "      <td>57</td>\n",
       "      <td>17</td>\n",
       "    </tr>\n",
       "    <tr>\n",
       "      <th>...</th>\n",
       "      <td>...</td>\n",
       "      <td>...</td>\n",
       "      <td>...</td>\n",
       "      <td>...</td>\n",
       "    </tr>\n",
       "    <tr>\n",
       "      <th>63</th>\n",
       "      <td>64</td>\n",
       "      <td>69</td>\n",
       "      <td>100</td>\n",
       "      <td>-31</td>\n",
       "    </tr>\n",
       "    <tr>\n",
       "      <th>64</th>\n",
       "      <td>65</td>\n",
       "      <td>82</td>\n",
       "      <td>83</td>\n",
       "      <td>-1</td>\n",
       "    </tr>\n",
       "    <tr>\n",
       "      <th>65</th>\n",
       "      <td>66</td>\n",
       "      <td>80</td>\n",
       "      <td>63</td>\n",
       "      <td>17</td>\n",
       "    </tr>\n",
       "    <tr>\n",
       "      <th>66</th>\n",
       "      <td>67</td>\n",
       "      <td>94</td>\n",
       "      <td>91</td>\n",
       "      <td>3</td>\n",
       "    </tr>\n",
       "    <tr>\n",
       "      <th>67</th>\n",
       "      <td>68</td>\n",
       "      <td>98</td>\n",
       "      <td>95</td>\n",
       "      <td>3</td>\n",
       "    </tr>\n",
       "  </tbody>\n",
       "</table>\n",
       "<p>68 rows × 4 columns</p>\n",
       "</div>"
      ],
      "text/plain": [
       "    School  ALL   BB  Difference\n",
       "0        1   79   93         -14\n",
       "1        2   88   91          -3\n",
       "2        3   88  100         -12\n",
       "3        4   71   73          -2\n",
       "4        5   74   57          17\n",
       "..     ...  ...  ...         ...\n",
       "63      64   69  100         -31\n",
       "64      65   82   83          -1\n",
       "65      66   80   63          17\n",
       "66      67   94   91           3\n",
       "67      68   98   95           3\n",
       "\n",
       "[68 rows x 4 columns]"
      ]
     },
     "execution_count": 5,
     "metadata": {},
     "output_type": "execute_result"
    }
   ],
   "source": [
    "Graduation"
   ]
  },
  {
   "cell_type": "code",
   "execution_count": 6,
   "metadata": {},
   "outputs": [
    {
     "data": {
      "image/png": "[encoded data removed]",
      "text/plain": [
       "<Figure size 1000x400 with 1 Axes>"
      ]
     },
     "metadata": {},
     "output_type": "display_data"
    }
   ],
   "source": [
    "import numpy as np\n",
    "data = Graduation['ALL']\n",
    "values, counts = np.unique(data, return_counts=True)\n",
    "\n",
    "# Draw dot plot with appropriate figure size, marker size and y-axis limits\n",
    "fig, ax = plt.subplots(figsize=(10, 4))\n",
    "for value, count in zip(values, counts):\n",
    "    ax.plot([value]*count, list(range(count)), 'co', ms=2, linestyle='')\n",
    "for spine in ['top', 'right', 'left']:\n",
    "    ax.spines[spine].set_visible(False)\n",
    "ax.yaxis.set_visible(False)\n",
    "ax.set_ylim(-1, max(counts))\n",
    "min_val = 20\n",
    "max_val = 100 # max(values)+1\n",
    "ax.set_xticks(range(min_val, max_val, 10))\n",
    "ax.tick_params(axis='x', length=0, pad=8, labelsize=12)\n",
    "plt.title(\"Graduation rates for all atheletes\")\n",
    "plt.xlabel(\"ALL\")\n",
    "\n",
    "plt.show()"
   ]
  },
  {
   "cell_type": "code",
   "execution_count": 7,
   "metadata": {},
   "outputs": [
    {
     "data": {
      "image/png": "[encoded data removed]",
      "text/plain": [
       "<Figure size 1000x400 with 1 Axes>"
      ]
     },
     "metadata": {},
     "output_type": "display_data"
    }
   ],
   "source": [
    "import numpy as np\n",
    "data = Graduation['BB']\n",
    "values, counts = np.unique(data, return_counts=True)\n",
    "\n",
    "# Draw dot plot with appropriate figure size, marker size and y-axis limits\n",
    "fig, ax = plt.subplots(figsize=(10, 4))\n",
    "for value, count in zip(values, counts):\n",
    "    ax.plot([value]*count, list(range(count)), 'co', ms=2, linestyle='')\n",
    "for spine in ['top', 'right', 'left']:\n",
    "    ax.spines[spine].set_visible(False)\n",
    "ax.yaxis.set_visible(False)\n",
    "ax.set_ylim(-1, max(counts))\n",
    "min_val = 20\n",
    "max_val = 100 # max(values)+1\n",
    "ax.set_xticks(range(min_val, max_val, 10))\n",
    "ax.tick_params(axis='x', length=0, pad=8, labelsize=12)\n",
    "plt.title(\"Graduation rates for basketball atheletes\")\n",
    "plt.xlabel(\"BB\")\n",
    "\n",
    "plt.show()"
   ]
  },
  {
   "cell_type": "code",
   "execution_count": 8,
   "metadata": {},
   "outputs": [
    {
     "data": {
      "image/png": "[encoded data removed]",
      "text/plain": [
       "<Figure size 1000x400 with 1 Axes>"
      ]
     },
     "metadata": {},
     "output_type": "display_data"
    }
   ],
   "source": [
    "import numpy as np\n",
    "data = Graduation['Difference']\n",
    "values, counts = np.unique(data, return_counts=True)\n",
    "\n",
    "# Draw dot plot with appropriate figure size, marker size and y-axis limits\n",
    "fig, ax = plt.subplots(figsize=(10, 4))\n",
    "for value, count in zip(values, counts):\n",
    "    ax.plot([value]*count, list(range(count)), 'co', ms=2, linestyle='')\n",
    "for spine in ['top', 'right', 'left']:\n",
    "    ax.spines[spine].set_visible(False)\n",
    "ax.yaxis.set_visible(False)\n",
    "ax.set_ylim(-1, max(counts))\n",
    "min_val = -40\n",
    "max_val =  70\n",
    "ax.set_xticks(range(min_val, max_val, 10))\n",
    "ax.tick_params(axis='x', length=0, pad=8, labelsize=12)\n",
    "plt.title(\"Difference in Graduation rates\")\n",
    "plt.xlabel(\"Difference\")\n",
    "\n",
    "plt.show()"
   ]
  }
 ],
 "metadata": {
  "kernelspec": {
   "display_name": "Python 3",
   "language": "python",
   "name": "python3"
  },
  "language_info": {
   "codemirror_mode": {
    "name": "ipython",
    "version": 3
   },
   "file_extension": ".py",
   "mimetype": "text/x-python",
   "name": "python",
   "nbconvert_exporter": "python",
   "pygments_lexer": "ipython3",
   "version": "3.10.7"
  },
  "orig_nbformat": 4
 },
 "nbformat": 4,
 "nbformat_minor": 2
}
