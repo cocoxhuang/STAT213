{
 "cells": [
  {
   "cell_type": "markdown",
   "metadata": {},
   "source": [
    "# 6.1 Chance experiment\n",
    "The process of making an observation when there is uncertainty about which of two or more possible outcomes will result. Examples: coin-toss, rolling a dice, lottery"
   ]
  },
  {
   "cell_type": "markdown",
   "metadata": {},
   "source": [
    "## Events and sample space\n",
    "- Sample space: The collection of all possible outcomes of a chance experiment.\n",
    "- Event: Any collection of outcomes from the sample space of a chance experiment.\n",
    "- Simple event :An event consisting of exactly one outcome.\n",
    "Example: Consider a chance experiment to investigate whether men or women are more likely to choose a hybrid car over a traditional internal combustion engine car when purchasing a Honda Civic at a particular car dealership. \n",
    "Use 𝑀 for male, 𝐹 for female; 𝐻 for hybrid engine, 𝑇 for traditional engine.<br>\n",
    "    - sample space={𝑀𝐻, 𝐹𝐻, 𝑀𝑇, 𝐹𝑇} <br>\n",
    "    - The event where the purchaser is a male: 𝑚𝑎𝑙𝑒={𝑀𝐻, 𝑀𝑇}"
   ]
  },
  {
   "cell_type": "markdown",
   "metadata": {},
   "source": [
    "### Forming new events\n",
    "Let 𝐴 and 𝐵 denote two events.\n",
    "- **Not 𝐴**: called the complement of 𝐴; denoted as $𝐴′$ or $𝐴^𝑐$ or $\\bar{𝐴}$. The event that consists of all outcomes in the sample space that are not in event 𝐴.\n",
    "- **𝐴 or 𝐵**: called the union of 𝐴 and 𝐵; denoted as $𝐴 \\cup 𝐵$. The event that consists of all outcomes in the sample space that are in at least one of the two events (in 𝐴, in 𝐵, or in both).\n",
    "- **𝐴 and 𝐵**: called the intersection of 𝐴 and 𝐵; denoted as $𝐴 \\cap 𝐵$. The event that consists of all outcomes in the sample space that are in both the event 𝐴 and the event 𝐵.\n",
    "- **Mutually exclusive**: Two events are mutually exclusive if they have no outcomes in common. The term disjoint is also sometimes used to describe events that have no outcomes in common.\n"
   ]
  },
  {
   "cell_type": "markdown",
   "metadata": {},
   "source": [
    "# 6.2 Probability"
   ]
  },
  {
   "cell_type": "markdown",
   "metadata": {},
   "source": [
    "## Probability for Equally Likely Outcomes\n",
    "When the outcomes in the sample space of a chance experiment are equally likely, the probability of an event 𝑬, denoted by 𝑷(𝑬), is the ratio of the number of outcomes favorable to 𝐸 to the total number of outcomes in the sample space:\n",
    "<div align=\"center\"><b> 𝑃(𝐸)=(𝑁𝑢𝑚𝑏𝑒𝑟 𝑜𝑓 𝑜𝑢𝑡𝑐𝑜𝑚𝑒𝑠 𝑓𝑎𝑣𝑜𝑟𝑎𝑏𝑙𝑒 𝑡𝑜 𝐸)/(𝑁𝑢𝑚𝑏𝑒𝑟 𝑜𝑓 𝑜𝑢𝑡𝑐𝑜𝑚𝑒𝑠 𝑖𝑛 𝑡ℎ𝑒 𝑠𝑎𝑚𝑝𝑙𝑒 𝑠𝑝𝑎𝑐𝑒) </b></div>\n",
    "Example: coin-toss, rolling a dice"
   ]
  },
  {
   "cell_type": "markdown",
   "metadata": {},
   "source": [
    "## Relative Frequency Approach to Probability\n",
    "The probability of an event 𝑬, denoted by 𝑷(𝑬), is defined to be the value approached by the relative frequency of occurrence of 𝐸 when a chance experiment is performed many times. If the number of times the chance experiment is performed is quite large,\n",
    "<div align=\"center\"><b> 𝑃(𝐸)≈(𝑁𝑢𝑚𝑏𝑒𝑟 𝑜𝑓 𝑡𝑖𝑚𝑒𝑠 𝐸 𝑜𝑐𝑐𝑢𝑟𝑠)/(𝑁𝑢𝑚𝑏𝑒𝑟 𝑜𝑓 𝑡𝑖𝑚𝑒𝑠 𝑒𝑥𝑝𝑒𝑟𝑖𝑚𝑒𝑛𝑡 𝑖𝑠 𝑝𝑒𝑟𝑓𝑜𝑟𝑚𝑒𝑑). </b></div>\n",
    "this approach works because of the law of the large number."
   ]
  },
  {
   "cell_type": "markdown",
   "metadata": {},
   "source": [
    "## Law of the large number:\n",
    "As the number of repetitions of a chance experiment increases, the chance that the relative frequency of occurrence for an event will differ from the true probability of the event by more than any small number approaches 0."
   ]
  },
  {
   "cell_type": "markdown",
   "metadata": {},
   "source": [
    "# 6.3 Basic Properties of Probability"
   ]
  },
  {
   "cell_type": "markdown",
   "metadata": {},
   "source": [
    "- For any event 𝐸, $0\\le𝑃(𝐸)\\le1$.\n",
    "- If 𝑆 is the sample space for a chance experiment, $𝑃(𝑆)=1$.\n",
    "- If two events 𝐸 and 𝐹 are mutually exclusive, then $𝑃(𝐸 \\cup 𝐹)=𝑃(𝐸)+𝑃(𝐹)$.\n",
    "- For any event 𝐸,  $𝑃(𝐸)+𝑃(𝐸^𝐶 )=1.$ "
   ]
  },
  {
   "cell_type": "markdown",
   "metadata": {},
   "source": [
    "# 6.4 Conditional Probability\n",
    "Suppose that 𝐸 and 𝐹 are two events with $𝑃(𝐹) > 0$. The **conditional probability** of the event 𝐸 given that the event 𝐹 has occurred, denoted by $𝑃(𝐸|𝐹)$, is\n",
    "$𝑃(𝐸|𝐹)=𝑃(𝐸 \\cap 𝐹)/𝑃(𝐹) $."
   ]
  },
  {
   "cell_type": "markdown",
   "metadata": {},
   "source": [
    "# 6.5 Independence\n",
    "- **Independent events**: Two events 𝐸 and 𝐹 are independent if 𝑃(𝐸|𝐹)=𝑃(𝐸). If 𝑃(𝐸|𝐹)=𝑃(𝐸), it is also true that 𝑃(𝐹|𝐸)=𝑃(𝐹), and vice versa.\n",
    "- **Dependent events**: If two events 𝐸 and 𝐹 are not independent, they are dependent events\n",
    "- If the events 𝐸 and 𝐹 are independent, $𝑃(𝐸 \\cap 𝐹)=𝑃(𝐸)\\cdot 𝑃(𝐹)$\n",
    "- Events $𝐸_1,…,𝐸_𝑘$ are independent if knowledge that any of the events have occurred does not change the probabilities that any particular one or more of the other events has occurred, and it implies $𝑃(𝐸_1 \\cap \\cdots \\cap 𝐸_𝑘)=𝑃(𝐸_1) \\times \\cdots  \\times 𝑃(𝐸_𝑘)$\n"
   ]
  },
  {
   "cell_type": "markdown",
   "metadata": {},
   "source": [
    "## independence in sampling with replacement\n",
    "- If a random sample of size 𝑛 is selected from a population of size 𝑁, the probabilities of successive selections calculated on the basis of sampling with replacement and on the basis of sampling without replacement are nearly equal when  is small compared to 𝑁.\n",
    "- In practice, independence can be assumed for the purpose of calculating probabilities as long as 𝑛 is not larger than **5%** of 𝑁."
   ]
  },
  {
   "cell_type": "markdown",
   "metadata": {},
   "source": [
    "# 6.6 General probability rules"
   ]
  },
  {
   "cell_type": "markdown",
   "metadata": {},
   "source": [
    "## General Addition Rule\n",
    "- For any two events 𝐸 and 𝐹,  $𝑃(𝐸 \\cup 𝐹)=𝑃(𝐸)+𝑃(𝐹)−𝑃(E \\cap 𝐹)$"
   ]
  },
  {
   "cell_type": "markdown",
   "metadata": {},
   "source": [
    "## General Multiplication Rule\n",
    "- For any two events 𝐸 and 𝐹, $𝑃(𝐸 \\cap 𝐹)=𝑃(𝐸|𝐹)𝑃(𝐹)$"
   ]
  },
  {
   "cell_type": "markdown",
   "metadata": {},
   "source": [
    "## Law of Total Probability\n",
    "If $𝐵_1 \\cdots 𝐵_𝑘$ are mutually exclusive events with $𝑃(𝐵_1 )+…+𝑃(𝐵_𝑘 )=1$, then for any event 𝐸, $P(𝐸)=𝑃(𝐸∩B_1 )+ \\cdots +𝑃(𝐸∩B_𝑘 ) =𝑃(𝐸|B_1 )𝑃(𝐵_1 )+ \\cdots +𝑃(𝐸|B_𝑘 )𝑃(𝐵_𝑘 )$\n"
   ]
  },
  {
   "cell_type": "markdown",
   "metadata": {},
   "source": [
    "## Bayes’ Rule\n",
    "If $𝐵_1,…,𝐵_𝑘$ are mutually exclusive events with $𝑃(𝐵_1 )+…+𝑃(𝐵_𝑘 )=1$, then for any event 𝐸, \n",
    "$$P(𝐵_𝑖 |𝐸)= \\frac{𝑃(B_𝑖 )𝑃(𝐸|B_𝑖 )}{𝑃(𝐸|B_1 )𝑃(B_1 )+…+𝑃(𝐸|B_𝑘 )𝑃(B_𝑘 )}$$\n"
   ]
  },
  {
   "cell_type": "markdown",
   "metadata": {},
   "source": [
    "# 6.7 Estimating Probabilities Empirically"
   ]
  },
  {
   "cell_type": "markdown",
   "metadata": {},
   "source": [
    "## Estimating Probabilities Empirically\n",
    "1. Observe a very large number of chance outcomes under controlled circumstances.\n",
    "2. Interpreting probability as a long-run relative frequency, estimate the probability of an event by using the observed proportion of occurrence."
   ]
  },
  {
   "cell_type": "markdown",
   "metadata": {},
   "source": [
    "## Using Simulation to Approximate a Probability\n",
    "1. Propose a method that uses a random mechanism (such as a random number generator, the selection of a ball from a box, the toss of a coin, etc.) to represent an observation. Be sure that the important characteristics of the actual process are preserved.\n",
    "2. Generate an observation using the method from Step 1, and determine whether the outcome of interest has occurred.\n",
    "3. Repeat Step 2 a large number of times.\n",
    "4. Calculate the estimated probability by dividing the number of observations for which the outcome of interest occurred by the total number of observations generated."
   ]
  }
 ],
 "metadata": {
  "kernelspec": {
   "display_name": "Python 3",
   "language": "python",
   "name": "python3"
  },
  "language_info": {
   "codemirror_mode": {
    "name": "ipython",
    "version": 3
   },
   "file_extension": ".py",
   "mimetype": "text/x-python",
   "name": "python",
   "nbconvert_exporter": "python",
   "pygments_lexer": "ipython3",
   "version": "3.10.7"
  },
  "orig_nbformat": 4
 },
 "nbformat": 4,
 "nbformat_minor": 2
}
